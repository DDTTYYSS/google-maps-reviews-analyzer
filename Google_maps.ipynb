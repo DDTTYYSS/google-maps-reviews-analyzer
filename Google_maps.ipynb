{
 "cells": [
  {
   "cell_type": "code",
   "execution_count": 15,
   "metadata": {},
   "outputs": [
    {
     "name": "stdout",
     "output_type": "stream",
     "text": [
      "Full response: {'html_attributions': [], 'result': {'name': 'Grand Hyatt Taipei', 'rating': 4.4, 'reviews': [{'author_name': '我的眼中世界', 'author_url': 'https://www.google.com/maps/contrib/107943885065782575965/reviews', 'language': 'zh-Hant', 'original_language': 'zh-Hant', 'profile_photo_url': 'https://lh3.googleusercontent.com/a-/ALV-UjU6NItpHZtIXbnPVY8si9qaySbz95N_u2RoUxfJIgAUewLV0mhLJg=s128-c0x00000000-cc-rp-mo-ba7', 'rating': 5, 'relative_time_description': '1 個月前', 'text': '台北君悅酒店是個超級方便的選擇，尤其是對於想住在信義區中心的人來說。它距離台北101和捷運站只要幾分鐘步行距離，周圍有很多購物和餐飲選擇，真的很方便。酒店的早餐也很豐盛，環境舒適，服務也很好。另外，酒店的設施齊全，有室外泳池、健身房和多種餐廳選擇，真的很豪華。\\n\\n不過，有些房間可能會有點舊，尤其是水壓和房間的新鮮度可能會有點問題。另外，早餐雖然很好吃，但人很多，可能需要等位。價格方面，台北君悅酒店算是比較高的，但考慮到它的位置和服務，還是挺值得的。總的來說，這是一個很不錯的選擇，尤其是對於想體驗豪華住宿的人來說。', 'time': 1741689278, 'translated': False}, {'author_name': 'Amy Lin', 'author_url': 'https://www.google.com/maps/contrib/113343153344937023421/reviews', 'language': 'zh-Hant', 'original_language': 'zh-Hant', 'profile_photo_url': 'https://lh3.googleusercontent.com/a/ACg8ocJSu015UuKAPclzdn4NscN9rP2hbduAHDI4dWH0CwuhJxFCDw=s128-c0x00000000-cc-rp-mo-ba7', 'rating': 4, 'relative_time_description': '2 個月前', 'text': '疫情期間，無法出國，來住了幾次，覺得服務不錯，但是算是老飯店了，所以就相對容易被新hotel所湮沒而忽略，最近來了幾次，都是國外友人入住，特來此餐聚，才又想起，也因此再多來了好幾次，在不同餐廳用餐，意外發現餐廳常客滿，真不好訂！覺得像自己家裡附近的熟悉場域,（之前的辦公室在附近，所以常來用餐，喝咖啡），服務質量還不錯，只是一樓凱菲屋對面的洗手間太老舊了，期待改善！', 'time': 1739751114, 'translated': False}, {'author_name': 'Jane Lee', 'author_url': 'https://www.google.com/maps/contrib/107059433905827650379/reviews', 'language': 'zh-Hant', 'original_language': 'zh-Hant', 'profile_photo_url': 'https://lh3.googleusercontent.com/a-/ALV-UjVo60VMUoGaOZ6abEw1QySPHuTGwwgge4uUjsXBX42Uv8njIWJdNw=s128-c0x00000000-cc-rp-mo-ba5', 'rating': 5, 'relative_time_description': '1 個月前', 'text': '台北君悅的地理位置絕佳！不但與台北世貿&國際會議中心相鄰、又有天橋連接直通台北101金融大樓&購物中心，以及信義區的10幾家百貨公司。\\n\\n挑高、氣派、寬敞明亮、兩邊對稱的大廳設計，很舒服，除了前門，左右兩側也都有出入口，非常便利。今年邁入第35年歷史的台北君悅（1990年初開幕），即使後來陸續成立了好幾家也是國際集團的五星級飯店，但君悅始終佔有獨特的一席之地。\\n\\n對我來說，台北君悅有最特別的意義，於公於私，都有太多的回憶和情感…', 'time': 1741196391, 'translated': False}, {'author_name': 'lin hsuanyu', 'author_url': 'https://www.google.com/maps/contrib/103414284241946177576/reviews', 'language': 'zh-Hant', 'original_language': 'zh-Hant', 'profile_photo_url': 'https://lh3.googleusercontent.com/a-/ALV-UjWbryJNBQkl3jlN1KiFSFJTHfplxrKgUrsd6jVtHesFwJUasSMtww=s128-c0x00000000-cc-rp-mo-ba6', 'rating': 5, 'relative_time_description': '3 週前', 'text': '台灣凱悅飯店真是沒話說一進飯店就是舒服環境氛圍問了information 小姐她回答非常好非常有耐心感覺很好，3樓彩日本料理真好吃整個擺設材料都非常值得推薦給大家，真的好吃新鮮～', 'time': 1743251627, 'translated': False}, {'author_name': '歐曜瑋', 'author_url': 'https://www.google.com/maps/contrib/107483989733789163639/reviews', 'language': 'zh-Hant', 'original_language': 'zh-Hant', 'profile_photo_url': 'https://lh3.googleusercontent.com/a-/ALV-UjWrRX1dNKm-vWRm9X-bDpUhS9-H-uA_HdUQai7e2v0ZqoVB00Na=s128-c0x00000000-cc-rp-mo-ba6', 'rating': 4, 'relative_time_description': '4 個月前', 'text': '君悅飯店作為台北的老字號酒店，其地理位置無疑是最大的優勢之一，坐落於交通便利的樞紐地帶，無論是出差商務人士還是外地遊客，都是理想的下榻選擇。酒店內部提供多元化的餐飲選擇，無論是高級餐廳還是精緻的雪茄吧，都展現了其經典的高端品味，令人難忘。\\n\\n然而，酒店設施因為年代較久，稍顯老舊，雖然維護得當，但與現代化設施的新穎感仍有一定差距。此外，令人稍感遺憾的是，君悅飯店目前已不再與美國運通卡合作，對於習慣享受該信用卡相關禮遇的客人來說，可能會有些不便。\\n\\n整體來說，君悅飯店仍然憑藉其卓越的服務品質和出色的地理位置值得推薦，尤其是對注重便利性和傳統優雅氛圍的住客而言。儘管未達滿分，仍然是台北住宿的穩妥選擇。希望未來在設施更新和合作計畫上能有進一步的提升，讓住客體驗更加完美。', 'time': 1734858765, 'translated': False}]}, 'status': 'OK'}\n",
      "地點：Grand Hyatt Taipei（整體評分：4.4）\n",
      "\n",
      "- 我的眼中世界：5★（1 個月前）\n",
      "  「台北君悅酒店是個超級方便的選擇，尤其是對於想住在信義區中心的人來說。它距離台北101和捷運站只要幾分鐘步行距離，周圍有很多購物和餐飲選擇，真的很方便。酒店的早餐也很豐盛，環境舒適，服務也很好。另外，酒店的設施齊全，有室外泳池、健身房和多種餐廳選擇，真的很豪華。\n",
      "\n",
      "不過，有些房間可能會有點舊，尤其是水壓和房間的新鮮度可能會有點問題。另外，早餐雖然很好吃，但人很多，可能需要等位。價格方面，台北君悅酒店算是比較高的，但考慮到它的位置和服務，還是挺值得的。總的來說，這是一個很不錯的選擇，尤其是對於想體驗豪華住宿的人來說。」\n",
      "\n",
      "- Amy Lin：4★（2 個月前）\n",
      "  「疫情期間，無法出國，來住了幾次，覺得服務不錯，但是算是老飯店了，所以就相對容易被新hotel所湮沒而忽略，最近來了幾次，都是國外友人入住，特來此餐聚，才又想起，也因此再多來了好幾次，在不同餐廳用餐，意外發現餐廳常客滿，真不好訂！覺得像自己家裡附近的熟悉場域,（之前的辦公室在附近，所以常來用餐，喝咖啡），服務質量還不錯，只是一樓凱菲屋對面的洗手間太老舊了，期待改善！」\n",
      "\n",
      "- Jane Lee：5★（1 個月前）\n",
      "  「台北君悅的地理位置絕佳！不但與台北世貿&國際會議中心相鄰、又有天橋連接直通台北101金融大樓&購物中心，以及信義區的10幾家百貨公司。\n",
      "\n",
      "挑高、氣派、寬敞明亮、兩邊對稱的大廳設計，很舒服，除了前門，左右兩側也都有出入口，非常便利。今年邁入第35年歷史的台北君悅（1990年初開幕），即使後來陸續成立了好幾家也是國際集團的五星級飯店，但君悅始終佔有獨特的一席之地。\n",
      "\n",
      "對我來說，台北君悅有最特別的意義，於公於私，都有太多的回憶和情感…」\n",
      "\n",
      "- lin hsuanyu：5★（3 週前）\n",
      "  「台灣凱悅飯店真是沒話說一進飯店就是舒服環境氛圍問了information 小姐她回答非常好非常有耐心感覺很好，3樓彩日本料理真好吃整個擺設材料都非常值得推薦給大家，真的好吃新鮮～」\n",
      "\n",
      "- 歐曜瑋：4★（4 個月前）\n",
      "  「君悅飯店作為台北的老字號酒店，其地理位置無疑是最大的優勢之一，坐落於交通便利的樞紐地帶，無論是出差商務人士還是外地遊客，都是理想的下榻選擇。酒店內部提供多元化的餐飲選擇，無論是高級餐廳還是精緻的雪茄吧，都展現了其經典的高端品味，令人難忘。\n",
      "\n",
      "然而，酒店設施因為年代較久，稍顯老舊，雖然維護得當，但與現代化設施的新穎感仍有一定差距。此外，令人稍感遺憾的是，君悅飯店目前已不再與美國運通卡合作，對於習慣享受該信用卡相關禮遇的客人來說，可能會有些不便。\n",
      "\n",
      "整體來說，君悅飯店仍然憑藉其卓越的服務品質和出色的地理位置值得推薦，尤其是對注重便利性和傳統優雅氛圍的住客而言。儘管未達滿分，仍然是台北住宿的穩妥選擇。希望未來在設施更新和合作計畫上能有進一步的提升，讓住客體驗更加完美。」\n",
      "\n"
     ]
    }
   ],
   "source": [
    "import os\n",
    "from dotenv import load_dotenv\n",
    "import requests\n",
    "\n",
    "# 1. 先載入 .env\n",
    "load_dotenv()  # by default 會讀取專案根目錄下的 .env\n",
    "\n",
    "# 2. 從環境變數讀取金鑰\n",
    "API_KEY = os.getenv(\"GOOGLE_MAPS_API_KEY\")\n",
    "if not API_KEY:\n",
    "    raise RuntimeError(\"請先在 .env 設定 GOOGLE_MAPS_API_KEY\")\n",
    "\n",
    "PLACE_ID = \"ChIJty1ap7erQjQRWmO-mTv1zkQ\"\n",
    "url = \"https://maps.googleapis.com/maps/api/place/details/json\"\n",
    "params = {\n",
    "    \"place_id\": PLACE_ID,\n",
    "    \"fields\": \"name,rating,reviews\",\n",
    "    \"language\": \"zh-TW\",\n",
    "    \"key\": API_KEY\n",
    "}\n",
    "\n",
    "resp = requests.get(url, params=params)\n",
    "data = resp.json()\n",
    "print(\"Full response:\", data)\n",
    "if data.get(\"status\") == \"OK\":\n",
    "    info = data[\"result\"]\n",
    "    print(f\"地點：{info['name']}（整體評分：{info['rating']}）\\n\")\n",
    "    for r in info.get(\"reviews\", []):\n",
    "        print(f\"- {r['author_name']}：{r['rating']}★（{r['relative_time_description']}）\")\n",
    "        print(f\"  「{r['text']}」\\n\")\n",
    "else:\n",
    "    print(\"API 呼叫失敗，狀態：\", data.get(\"status\"))\n"
   ]
  },
  {
   "cell_type": "code",
   "execution_count": null,
   "metadata": {},
   "outputs": [],
   "source": []
  }
 ],
 "metadata": {
  "kernelspec": {
   "display_name": "base",
   "language": "python",
   "name": "python3"
  },
  "language_info": {
   "codemirror_mode": {
    "name": "ipython",
    "version": 3
   },
   "file_extension": ".py",
   "mimetype": "text/x-python",
   "name": "python",
   "nbconvert_exporter": "python",
   "pygments_lexer": "ipython3",
   "version": "3.11.5"
  }
 },
 "nbformat": 4,
 "nbformat_minor": 2
}
